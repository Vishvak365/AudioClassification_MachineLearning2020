{
 "cells": [
  {
   "cell_type": "markdown",
   "metadata": {},
   "source": [
    "# Homework 4 Part 2\n",
    "\n",
    "**Due: Monday, November 9, 11:59 PM**\n",
    "\n",
    "* This is a group assignment (final project team group)."
   ]
  },
  {
   "cell_type": "markdown",
   "metadata": {},
   "source": [
    "# Create Your Repository\n",
    "\n",
    "Create the repo for this assignment by visiting the following link:\n",
    "\n",
    "https://classroom.github.com/g/m2K_Ea-V"
   ]
  },
  {
   "cell_type": "markdown",
   "metadata": {},
   "source": [
    "# Data Set\n",
    "\n",
    "In this assignment, you will be working with the [training data set for the final project](https://ufl.instructure.com/courses/404363/files/folder/Final%20Project/Training%20Data):\n",
    "\n",
    "* *data_training.npy*\n",
    "* *labels_training.npy*\n",
    "\n",
    "**In this homework, you are allowed to use *any* libraries.**"
   ]
  },
  {
   "cell_type": "markdown",
   "metadata": {},
   "source": [
    "# Computing Resources\n",
    "\n",
    "Make full use of the computing resources in the [HiPerGator](https://help.rc.ufl.edu/doc/UFRC_Help_and_Documentation).\n",
    "\n",
    "* Our group is called **\"eee4773\"**.\n",
    "* Refer to the lecture recording from Monday, November 2, for information on how to use the HiPerGator.\n",
    "\n",
    "An alternative is to use the public GPU/TPU resources from [Google Colab](https://colab.research.google.com/notebooks/intro.ipynb)."
   ]
  },
  {
   "cell_type": "markdown",
   "metadata": {},
   "source": [
    "# Communication\n",
    "\n",
    "Make sure you communicate often with your team, and you are all following your work plan. You can schedule Zoom meetings using your UFL account: https://ufl.zoom.us/"
   ]
  },
  {
   "cell_type": "markdown",
   "metadata": {},
   "source": [
    "# Problem 1 (5 points)\n",
    "\n",
    "Get the team together and discuss rules for working in a group. Design at least 3 rules. \n",
    "\n",
    "* I will gather information from all groups and share the consensus group rules.\n",
    "* For the final project submission (code implementation and report), we will use these group rules as a weight contribution for each team member.\n",
    "    * For example, suppose that the average score (includes peer- and self-evaluation according to the rules) is 90%, than your individual project grade will be $0.90 \\times \\text{final project grade}$.\n",
    "    * All fully contributing members, should expect to get 100% on the participation weight score."
   ]
  },
  {
   "cell_type": "markdown",
   "metadata": {},
   "source": [
    "\n",
    "### The three consensus rules for working in a group that our team discussed are as follows:\n",
    "* Good communication\n",
    "* Completing work on time\n",
    "* Completing work of good quality\n"
   ]
  },
  {
   "cell_type": "markdown",
   "metadata": {},
   "source": [
    "# Problem 2 (10 points)\n",
    "\n",
    "In a standard supervised Machine Learning algorithm, we typically extract features from data and utilize those features to train a model.\n",
    "\n",
    "In this problem, you will be exploring the data set and extracting features from the audio signals. A popular feature for speech signals is the Mel Frequency Cepstral Coefficient (MFCC).\n",
    "\n",
    "**Design at least 2 features.** Compute these features for the training data and build your feature matrix.\n",
    "\n",
    "* Tip: ```librosa``` continues a few tools to extract features from audio, though it is not required for use in this problem.\n",
    "\n",
    "(Note: there are multiple solutions to this problem. Grading will be based on critical reasoning and code implementation.)"
   ]
  },
  {
   "cell_type": "code",
   "execution_count": 1,
   "metadata": {},
   "outputs": [
    {
     "output_type": "error",
     "ename": "ModuleNotFoundError",
     "evalue": "No module named 'librosa'",
     "traceback": [
      "\u001b[1;31m---------------------------------------------------------------------------\u001b[0m",
      "\u001b[1;31mModuleNotFoundError\u001b[0m                       Traceback (most recent call last)",
      "\u001b[1;32m<ipython-input-1-cd3783e72505>\u001b[0m in \u001b[0;36m<module>\u001b[1;34m\u001b[0m\n\u001b[0;32m      2\u001b[0m \u001b[1;32mimport\u001b[0m \u001b[0mnumpy\u001b[0m\u001b[1;33m.\u001b[0m\u001b[0mrandom\u001b[0m \u001b[1;32mas\u001b[0m \u001b[0mnpr\u001b[0m\u001b[1;33m\u001b[0m\u001b[1;33m\u001b[0m\u001b[0m\n\u001b[0;32m      3\u001b[0m \u001b[1;32mimport\u001b[0m \u001b[0mrandom\u001b[0m\u001b[1;33m\u001b[0m\u001b[1;33m\u001b[0m\u001b[0m\n\u001b[1;32m----> 4\u001b[1;33m \u001b[1;32mimport\u001b[0m \u001b[0mlibrosa\u001b[0m\u001b[1;33m\u001b[0m\u001b[1;33m\u001b[0m\u001b[0m\n\u001b[0m\u001b[0;32m      5\u001b[0m \u001b[1;32mfrom\u001b[0m \u001b[0mIPython\u001b[0m\u001b[1;33m.\u001b[0m\u001b[0mdisplay\u001b[0m \u001b[1;32mimport\u001b[0m \u001b[0mdisplay\u001b[0m\u001b[1;33m,\u001b[0m \u001b[0mAudio\u001b[0m\u001b[1;33m\u001b[0m\u001b[1;33m\u001b[0m\u001b[0m\n",
      "\u001b[1;31mModuleNotFoundError\u001b[0m: No module named 'librosa'"
     ]
    }
   ],
   "source": [
    "import numpy as np\n",
    "import numpy.random as npr\n",
    "import random\n",
    "import librosa\n",
    "from IPython.display import display, Audio"
   ]
  },
  {
   "cell_type": "code",
   "execution_count": 2,
   "metadata": {},
   "outputs": [],
   "source": [
    "data_training = np.load('data_training.npy')\n",
    "labels_training = np.load('labels_training.npy')\n",
    "statements_training = np.load('statements_training.npy')"
   ]
  },
  {
   "cell_type": "code",
   "execution_count": 3,
   "metadata": {},
   "outputs": [],
   "source": [
    "# [4,2]\n",
    "training_labels_combined = []\n",
    "for i in range(len(labels_training)):\n",
    "    training_labels_combined.append([labels_training[i],statements_training[i]])"
   ]
  },
  {
   "cell_type": "code",
   "execution_count": 4,
   "metadata": {},
   "outputs": [],
   "source": [
    "labels_names = ['neutral', 'calm', 'happy', 'sad', 'angry', 'fearful', 'disgust', 'surprise']"
   ]
  },
  {
   "cell_type": "code",
   "execution_count": 5,
   "metadata": {},
   "outputs": [],
   "source": [
    "sample_rate = 44000"
   ]
  },
  {
   "cell_type": "code",
   "execution_count": 6,
   "metadata": {},
   "outputs": [],
   "source": [
    "mfccs = []\n",
    "for x in data_training:\n",
    "    mfccs.append(librosa.feature.mfcc(y=x,sr=sample_rate))"
   ]
  },
  {
   "cell_type": "code",
   "execution_count": 7,
   "metadata": {},
   "outputs": [],
   "source": [
    "mfccs2D = []\n",
    "for x in mfccs:\n",
    "    mfccs2D.append(np.mean(x,axis=0))"
   ]
  },
  {
   "cell_type": "code",
   "execution_count": 8,
   "metadata": {},
   "outputs": [],
   "source": [
    "zeroCrossRates = []\n",
    "for x in data_training:\n",
    "    zeroCrossRates.append(librosa.feature.zero_crossing_rate(x))"
   ]
  },
  {
   "cell_type": "code",
   "execution_count": 9,
   "metadata": {},
   "outputs": [],
   "source": [
    "zeroCrossRates2D = []\n",
    "for x in zeroCrossRates:\n",
    "    zeroCrossRates2D.append(zeroCrossRates[i][0])"
   ]
  },
  {
   "cell_type": "code",
   "execution_count": 10,
   "metadata": {},
   "outputs": [],
   "source": [
    "combinedFeatures = []\n",
    "for i in range(len(mfccs2D)):\n",
    "    combinedFeatures.append(np.concatenate((mfccs2D[i],zeroCrossRates2D[i]),axis=0))"
   ]
  },
  {
   "cell_type": "markdown",
   "metadata": {},
   "source": [
    "# Problem 3 (30 points)\n",
    "\n",
    "Implement the $k$-NN and SVM classifiers on your training data. You can choose to apply the classifiers:\n",
    "* directly on the input data,\n",
    "* using the features you designed in problem 1,\n",
    "* both input space and feature space, as to compare both performances.\n",
    "\n",
    "In your implementation, you should follow the standard procedures:\n",
    "1. Pre-processing the data, this includes data normalization.\n",
    "2. Split data into training and test sets. Make sure you use the same training set in both classifiers.\n",
    "3. Perform $k$-fold Cross-Validation to determine the best set of parameters for each classifier. Consider using the [```GridSearchCV```](https://scikit-learn.org/stable/modules/generated/sklearn.model_selection.GridSearchCV.html) approach in experimental design.\n",
    "4. Report the results on the test set using appropriate evaluation metrics.\n",
    "5. Include a paragraph that compares the performance of both classifiers, and steps you will take to improve upon these preliminary results.\n",
    "\n",
    "Note: You may include a paragraph description about your experience in using the HiPerGator. If you encounter any issues, please describe them."
   ]
  },
  {
   "cell_type": "markdown",
   "metadata": {},
   "source": [
    "### K nearest Neighbors"
   ]
  },
  {
   "cell_type": "code",
   "execution_count": 28,
   "metadata": {},
   "outputs": [],
   "source": [
    "from sklearn.neighbors import KNeighborsClassifier\n",
    "from sklearn.model_selection import train_test_split,KFold\n",
    "from sklearn.metrics import accuracy_score"
   ]
  },
  {
   "cell_type": "code",
   "execution_count": 31,
   "metadata": {},
   "outputs": [],
   "source": [
    "# X_train, X_test, y_train, y_test = train_test_split(mfccs2D, training_labels_combined, test_size=0.30)\n",
    "# X_train, X_test, y_train, y_test = train_test_split(zeroCrossRates2D, training_labels_combined, test_size=0.30)\n",
    "# X_train, X_test, y_train, y_test = train_test_split(mfccs, statements_training, test_size=0.30)\n",
    "X_train, X_test, y_train, y_test = train_test_split(combinedFeatures, training_labels_combined, test_size=0.30)\n",
    "X_train = np.array(X_train)\n",
    "X_test = np.array(X_test)\n",
    "y_train = np.array(y_train)\n",
    "y_test = np.array(y_test)"
   ]
  },
  {
   "cell_type": "code",
   "execution_count": 32,
   "metadata": {},
   "outputs": [],
   "source": [
    "# KNN with multiclass\n",
    "from sklearn.multioutput import MultiOutputClassifier\n",
    "def predict(trainX,trainY,predX,k=3):\n",
    "    knn = KNeighborsClassifier(n_neighbors=k)\n",
    "    classifier = MultiOutputClassifier(knn, n_jobs=-1)\n",
    "    pred_yp_knn = classifier.fit(trainX,trainY).predict(predX)\n",
    "    return pred_yp_knn"
   ]
  },
  {
   "cell_type": "code",
   "execution_count": 42,
   "metadata": {},
   "outputs": [],
   "source": [
    "scoresEmotion = []\n",
    "scoresStatement = []\n",
    "folds = 4\n",
    "maxKNeighbors = 20\n",
    "for n in range(1,maxKNeighbors+1):\n",
    "    sum_accuracyEmotion,sum_accuracyStatement = 0,0\n",
    "    for train_index, test_index in KFold(n_splits=folds).split(X_train):\n",
    "        X_train_k = X_train[train_index]\n",
    "        y_train_k = y_train[train_index]\n",
    "        X_test_k = X_train[test_index]\n",
    "        y_test_k = y_train[test_index]\n",
    "        sum_accuracyEmotion += accuracy_score(y_test_k[:,0], predict(X_train_k,y_train_k,X_test_k,k=n)[:,0])\n",
    "        sum_accuracyStatement += accuracy_score(y_test_k[:,1], predict(X_train_k,y_train_k,X_test_k,k=n)[:,1])\n",
    "    scoresEmotion.append(sum_accuracyEmotion/folds)\n",
    "    scoresStatement.append(sum_accuracyStatement/folds)"
   ]
  },
  {
   "cell_type": "code",
   "execution_count": 48,
   "metadata": {},
   "outputs": [
    {
     "data": {
      "text/plain": [
       "<matplotlib.legend.Legend at 0x2ab122ec65b0>"
      ]
     },
     "execution_count": 48,
     "metadata": {},
     "output_type": "execute_result"
    },
    {
     "data": {
      "image/png": "[encoded data removed]",
      "text/plain": [
       "<Figure size 432x288 with 1 Axes>"
      ]
     },
     "metadata": {
      "needs_background": "light"
     },
     "output_type": "display_data"
    }
   ],
   "source": [
    "from matplotlib import pyplot as plt\n",
    "xRange = np.arange(1,maxKNeighbors+1)\n",
    "plt.title(\"Score vs # of Neighbors\") \n",
    "plt.xlabel(\"Number of Neighbors\") \n",
    "plt.ylabel(\"Accuracy\")\n",
    "plt.plot(xRange,scoresEmotion,label=\"Emotion Label\")\n",
    "plt.plot(xRange,scoresStatement,label=\"Statement Label\")\n",
    "plt.xticks(range(1,maxKNeighbors+1))\n",
    "plt.legend()"
   ]
  },
  {
   "cell_type": "code",
   "execution_count": 53,
   "metadata": {},
   "outputs": [
    {
     "name": "stdout",
     "output_type": "stream",
     "text": [
      "Emotion Score 0.475 and Statement Score is 0.6888888888888889\n"
     ]
    }
   ],
   "source": [
    "Knn_1neighbor = predict(X_train,y_train,X_test,k=1)\n",
    "Knn_1neighbor_Emotion = accuracy_score(y_test[:,0],Knn_1neighbor[:,0])\n",
    "Knn_1neighbor_Statement = accuracy_score(y_test[:,1],Knn_1neighbor[:,1])\n",
    "print(\"Emotion Score\",Knn_1neighbor_Emotion,\"and Statement Score is\",Knn_1neighbor_Statement)"
   ]
  },
  {
   "cell_type": "markdown",
   "metadata": {},
   "source": [
    "### SVM"
   ]
  },
  {
   "cell_type": "code",
   "execution_count": 17,
   "metadata": {},
   "outputs": [],
   "source": [
    "from sklearn import svm"
   ]
  },
  {
   "cell_type": "code",
   "execution_count": 93,
   "metadata": {},
   "outputs": [
    {
     "name": "stdout",
     "output_type": "stream",
     "text": [
      "[1.00000000e-02 3.59381366e-02 1.29154967e-01 4.64158883e-01\n",
      " 1.66810054e+00 5.99484250e+00 2.15443469e+01 7.74263683e+01\n",
      " 2.78255940e+02 1.00000000e+03]\n",
      "0.01\n",
      "0.03593813663804628\n",
      "0.1291549665014884\n",
      "0.464158883361278\n",
      "1.6681005372000592\n",
      "5.994842503189409\n",
      "21.544346900318846\n",
      "77.42636826811278\n",
      "278.2559402207126\n",
      "1000.0\n"
     ]
    }
   ],
   "source": [
    "folds = 4\n",
    "# C_range = np.arange(0,10000,1000)\n",
    "scoresEmotion = []\n",
    "scoresStatement = []\n",
    "C_range = np.logspace(start=-2, stop=3, num=10, endpoint=True)\n",
    "print(C_range)\n",
    "for c in C_range:\n",
    "    print(c)\n",
    "    clf = svm.SVC(C=c)\n",
    "    classifier = MultiOutputClassifier(clf, n_jobs=-1)\n",
    "    sum_accuracyEmotion,sum_accuracyStatement = 0,0\n",
    "    for train_index, test_index in KFold(n_splits=folds).split(X_train):\n",
    "        X_train_k = X_train[train_index]\n",
    "        y_train_k = y_train[train_index]\n",
    "        X_test_k = X_train[test_index]\n",
    "        y_test_k = y_train[test_index]\n",
    "        SVMPred = classifier.fit(X_train_k, y_train_k).predict(X_test_k)\n",
    "        sum_accuracyEmotion += accuracy_score(y_test_k[:,0], SVMPred[:,0])\n",
    "        sum_accuracyStatement += accuracy_score(y_test_k[:,1], SVMPred[:,1])\n",
    "    scoresEmotion.append(sum_accuracyEmotion/folds)\n",
    "    scoresStatement.append(sum_accuracyStatement/folds)"
   ]
  },
  {
   "cell_type": "code",
   "execution_count": 96,
   "metadata": {},
   "outputs": [
    {
     "data": {
      "text/plain": [
       "<matplotlib.legend.Legend at 0x2ab11eb8ae80>"
      ]
     },
     "execution_count": 96,
     "metadata": {},
     "output_type": "execute_result"
    },
    {
     "data": {
      "image/png": "[encoded data removed]",
      "text/plain": [
       "<Figure size 432x288 with 1 Axes>"
      ]
     },
     "metadata": {
      "needs_background": "light"
     },
     "output_type": "display_data"
    }
   ],
   "source": [
    "plt.title(\"Score vs C value\") \n",
    "plt.xlabel(\"C value\") \n",
    "plt.ylabel(\"Accuracy\")\n",
    "plt.plot(C_range,scoresEmotion,label=\"Emotion Label\")\n",
    "plt.plot(C_range,scoresStatement,label=\"Statement Label\")\n",
    "# plt.xticks(range(1,maxKNeighbors+1))\n",
    "plt.legend()"
   ]
  },
  {
   "cell_type": "code",
   "execution_count": 98,
   "metadata": {},
   "outputs": [
    {
     "name": "stdout",
     "output_type": "stream",
     "text": [
      "Test Set - \n",
      " Emotion Score 0.3611111111111111 and Statement Score is 0.6652777777777777\n"
     ]
    }
   ],
   "source": [
    "# Test set SVM\n",
    "clf = svm.SVC(C=80)\n",
    "classifier = MultiOutputClassifier(clf, n_jobs=-1)\n",
    "SVMPred = classifier.fit(X_train, y_train).predict(X_test)\n",
    "accuracyEmotion = accuracy_score(y_test[:,0], SVMPred[:,0])\n",
    "accuracyStatement = accuracy_score(y_test[:,1], SVMPred[:,1])\n",
    "print(\"Test Set - \\n\",\"Emotion Score\",accuracyEmotion,\"and Statement Score is\",accuracyStatement)"
   ]
  },
  {
   "cell_type": "markdown",
   "metadata": {},
   "source": [
    "### Conclusion\n",
    "Because we are only using two features (ZeroCrossRate and MFCC) and simple classificiation algorithms (KNN and SVM) our scores are pretty low. Our KNN classifier is much better at predicting the statement (0 or 1) and the label than SVM is. Though even at this moment, our results show promise as our label predictions are usually in the range of 2 to 4 times better than pure random (1/8 or .125).\n",
    "\n",
    "### HiperGator\n",
    "Hipergator was really useful and cut computation times by a lot. A lot of team members weren't even able to load in the training set on our personal computers because of the sheer size of the data. There were occasional slow points during use (even simple printing a size of an array) took minutes to run but other times they even heavier computations took less than a few seconds so that was a weird glitch."
   ]
  },
  {
   "cell_type": "code",
   "execution_count": null,
   "metadata": {},
   "outputs": [],
   "source": []
  }
 ],
 "metadata": {
  "kernelspec": {
   "name": "python3",
   "display_name": "Python 3.8.1 64-bit",
   "metadata": {
    "interpreter": {
     "hash": "661092f7c4bee74c08b65cb5b88ade7b0161c48fb7d010842d445f7c5a66f1c1"
    }
   }
  },
  "language_info": {
   "codemirror_mode": {
    "name": "ipython",
    "version": 3
   },
   "file_extension": ".py",
   "mimetype": "text/x-python",
   "name": "python",
   "nbconvert_exporter": "python",
   "pygments_lexer": "ipython3",
   "version": "3.8.1-final"
  }
 },
 "nbformat": 4,
 "nbformat_minor": 4
}